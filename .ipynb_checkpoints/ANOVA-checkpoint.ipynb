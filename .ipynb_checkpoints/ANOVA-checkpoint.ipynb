{
 "cells": [
  {
   "cell_type": "markdown",
   "id": "eba939e6",
   "metadata": {
    "toc": true
   },
   "source": [
    "<h1>Table of Contents<span class=\"tocSkip\"></span></h1>\n",
    "<div class=\"toc\"><ul class=\"toc-item\"><li><span><a href=\"#Import-Library\" data-toc-modified-id=\"Import-Library-1\"><span class=\"toc-item-num\">1&nbsp;&nbsp;</span>Import Library</a></span></li><li><span><a href=\"#ANOVA\" data-toc-modified-id=\"ANOVA-2\"><span class=\"toc-item-num\">2&nbsp;&nbsp;</span>ANOVA</a></span><ul class=\"toc-item\"><li><span><a href=\"#One-ANOVA\" data-toc-modified-id=\"One-ANOVA-2.1\"><span class=\"toc-item-num\">2.1&nbsp;&nbsp;</span>One ANOVA</a></span></li><li><span><a href=\"#Two-ANOVA\" data-toc-modified-id=\"Two-ANOVA-2.2\"><span class=\"toc-item-num\">2.2&nbsp;&nbsp;</span>Two ANOVA</a></span><ul class=\"toc-item\"><li><span><a href=\"#shapiro-wallic-test\" data-toc-modified-id=\"shapiro-wallic-test-2.2.1\"><span class=\"toc-item-num\">2.2.1&nbsp;&nbsp;</span>shapiro wallic test</a></span></li><li><span><a href=\"#Kolmogorov-Smirnov-test-for-checking-Normality\" data-toc-modified-id=\"Kolmogorov-Smirnov-test-for-checking-Normality-2.2.2\"><span class=\"toc-item-num\">2.2.2&nbsp;&nbsp;</span>Kolmogorov-Smirnov test for checking Normality</a></span></li></ul></li></ul></li></ul></div>"
   ]
  },
  {
   "cell_type": "markdown",
   "id": "70f85d1d",
   "metadata": {},
   "source": [
    "# Import Library"
   ]
  },
  {
   "cell_type": "code",
   "execution_count": 4,
   "id": "4b9381cf",
   "metadata": {},
   "outputs": [],
   "source": [
    "import numpy as np\n",
    "import pandas as pd\n",
    "import seaborn as sns"
   ]
  },
  {
   "cell_type": "markdown",
   "id": "a35db3ad",
   "metadata": {},
   "source": [
    "# ANOVA"
   ]
  },
  {
   "cell_type": "markdown",
   "id": "d5b47f3a",
   "metadata": {},
   "source": [
    "It stands for Analysis of Variance.ANOVA is a statistical technique used to analyze and compare the means of two or more groups or treatments to determine if there are statistically significant differences among them. It is commonly used in research and experimental design to assess the impact of different factors on a dependent variable."
   ]
  },
  {
   "cell_type": "markdown",
   "id": "208972a0",
   "metadata": {},
   "source": [
    "**Assumption of ANOVA**\n",
    "- Homogeinity of mean.\n",
    "- Sample are selected randomly.\n",
    "- Sample drawn from Normal Population"
   ]
  },
  {
   "cell_type": "markdown",
   "id": "216b603a",
   "metadata": {},
   "source": [
    "## One ANOVA"
   ]
  },
  {
   "cell_type": "code",
   "execution_count": 7,
   "id": "613abec9",
   "metadata": {},
   "outputs": [
    {
     "data": {
      "text/html": [
       "<div>\n",
       "<style scoped>\n",
       "    .dataframe tbody tr th:only-of-type {\n",
       "        vertical-align: middle;\n",
       "    }\n",
       "\n",
       "    .dataframe tbody tr th {\n",
       "        vertical-align: top;\n",
       "    }\n",
       "\n",
       "    .dataframe thead th {\n",
       "        text-align: right;\n",
       "    }\n",
       "</style>\n",
       "<table border=\"1\" class=\"dataframe\">\n",
       "  <thead>\n",
       "    <tr style=\"text-align: right;\">\n",
       "      <th></th>\n",
       "      <th>Age</th>\n",
       "      <th>Gender</th>\n",
       "      <th>Education Level</th>\n",
       "      <th>Job Title</th>\n",
       "      <th>Years of Experience</th>\n",
       "      <th>Salary</th>\n",
       "    </tr>\n",
       "  </thead>\n",
       "  <tbody>\n",
       "    <tr>\n",
       "      <th>0</th>\n",
       "      <td>32.0</td>\n",
       "      <td>Male</td>\n",
       "      <td>Bachelor's</td>\n",
       "      <td>Software Engineer</td>\n",
       "      <td>5.0</td>\n",
       "      <td>90000.0</td>\n",
       "    </tr>\n",
       "    <tr>\n",
       "      <th>1</th>\n",
       "      <td>28.0</td>\n",
       "      <td>Female</td>\n",
       "      <td>Master's</td>\n",
       "      <td>Data Analyst</td>\n",
       "      <td>3.0</td>\n",
       "      <td>65000.0</td>\n",
       "    </tr>\n",
       "  </tbody>\n",
       "</table>\n",
       "</div>"
      ],
      "text/plain": [
       "    Age  Gender Education Level          Job Title  Years of Experience  \\\n",
       "0  32.0    Male      Bachelor's  Software Engineer                  5.0   \n",
       "1  28.0  Female        Master's       Data Analyst                  3.0   \n",
       "\n",
       "    Salary  \n",
       "0  90000.0  \n",
       "1  65000.0  "
      ]
     },
     "execution_count": 7,
     "metadata": {},
     "output_type": "execute_result"
    }
   ],
   "source": [
    "df= pd.read_csv(\"Salary Data.csv\")\n",
    "df.dropna(inplace=True)\n",
    "df.head(2)"
   ]
  },
  {
   "cell_type": "code",
   "execution_count": 8,
   "id": "1fd5049d",
   "metadata": {},
   "outputs": [
    {
     "data": {
      "text/plain": [
       "array([\"Bachelor's\", \"Master's\", 'PhD'], dtype=object)"
      ]
     },
     "execution_count": 8,
     "metadata": {},
     "output_type": "execute_result"
    }
   ],
   "source": [
    "df['Education Level'].unique()"
   ]
  },
  {
   "cell_type": "code",
   "execution_count": 10,
   "id": "51409e98",
   "metadata": {},
   "outputs": [
    {
     "data": {
      "text/plain": [
       "<Axes: xlabel='Education Level', ylabel='Salary'>"
      ]
     },
     "execution_count": 10,
     "metadata": {},
     "output_type": "execute_result"
    },
    {
     "data": {
      "image/png": "[encoded data removed]",
      "text/plain": [
       "<Figure size 640x480 with 1 Axes>"
      ]
     },
     "metadata": {},
     "output_type": "display_data"
    }
   ],
   "source": [
    "sns.boxplot(x=\"Education Level\",y= \"Salary\",data=df)"
   ]
  },
  {
   "cell_type": "code",
   "execution_count": 11,
   "id": "241916c8",
   "metadata": {},
   "outputs": [
    {
     "data": {
      "text/plain": [
       "Education Level\n",
       "Bachelor's     65000.0\n",
       "Master's      120000.0\n",
       "PhD           155000.0\n",
       "Name: Salary, dtype: float64"
      ]
     },
     "execution_count": 11,
     "metadata": {},
     "output_type": "execute_result"
    }
   ],
   "source": [
    "df.groupby('Education Level').Salary.median()"
   ]
  },
  {
   "cell_type": "code",
   "execution_count": 16,
   "id": "88a106b2",
   "metadata": {},
   "outputs": [],
   "source": [
    "bachelors = df.loc[df['Education Level']==\"Bachelor's\"]['Salary']\n",
    "masters = df.loc[df['Education Level']==\"Master's\"]['Salary']\n",
    "phd = df.loc[df['Education Level']==\"PhD\"]['Salary']"
   ]
  },
  {
   "cell_type": "code",
   "execution_count": 17,
   "id": "f13bb2da",
   "metadata": {},
   "outputs": [
    {
     "data": {
      "text/plain": [
       "F_onewayResult(statistic=159.1013510004312, pvalue=1.379716547439161e-50)"
      ]
     },
     "execution_count": 17,
     "metadata": {},
     "output_type": "execute_result"
    }
   ],
   "source": [
    "from scipy.stats import f_oneway\n",
    "result = f_oneway(bachelors,masters,phd)\n",
    "result"
   ]
  },
  {
   "cell_type": "code",
   "execution_count": 20,
   "id": "84478746",
   "metadata": {},
   "outputs": [
    {
     "name": "stdout",
     "output_type": "stream",
     "text": [
      "We reject Null Hypothesis\n",
      "Conclusion: There is significant difference between groups.\n"
     ]
    }
   ],
   "source": [
    "alpha = 0.05\n",
    "if result.pvalue< alpha:\n",
    "    print (\"We reject Null Hypothesis\")\n",
    "    print(\"Conclusion: There is significant difference between groups.\")\n",
    "else:\n",
    "      print (\"We fail to reject Null Hypothesis\")\n",
    "      print(\"Conclusion: There is no difference between in salary between groups\")"
   ]
  },
  {
   "cell_type": "markdown",
   "id": "a9f7f3c0",
   "metadata": {},
   "source": [
    "## Two ANOVA"
   ]
  },
  {
   "cell_type": "code",
   "execution_count": 28,
   "id": "6bc9efbe",
   "metadata": {},
   "outputs": [],
   "source": [
    "#!pip install gdown"
   ]
  },
  {
   "cell_type": "code",
   "execution_count": 22,
   "id": "be055712",
   "metadata": {},
   "outputs": [],
   "source": [
    "import gdown"
   ]
  },
  {
   "cell_type": "code",
   "execution_count": 23,
   "id": "10741018",
   "metadata": {},
   "outputs": [
    {
     "name": "stderr",
     "output_type": "stream",
     "text": [
      "Downloading...\n",
      "From: https://drive.google.com/uc?id=1GxG8aVenl4gFi4BtaBB9Zyhp_jGEKLyP\n",
      "To: C:\\Users\\Lenovo\\Documents\\00_FRTC\\00_training\\00_data_analysis_python\\Day4\\tooth-growdth.csv\n",
      "\n",
      "  0%|          | 0.00/724 [00:00<?, ?B/s]\n",
      "100%|##########| 724/724 [00:00<00:00, 973kB/s]\n"
     ]
    }
   ],
   "source": [
    "!gdown 1GxG8aVenl4gFi4BtaBB9Zyhp_jGEKLyP"
   ]
  },
  {
   "cell_type": "code",
   "execution_count": 25,
   "id": "682e4330",
   "metadata": {},
   "outputs": [
    {
     "data": {
      "text/html": [
       "<div>\n",
       "<style scoped>\n",
       "    .dataframe tbody tr th:only-of-type {\n",
       "        vertical-align: middle;\n",
       "    }\n",
       "\n",
       "    .dataframe tbody tr th {\n",
       "        vertical-align: top;\n",
       "    }\n",
       "\n",
       "    .dataframe thead th {\n",
       "        text-align: right;\n",
       "    }\n",
       "</style>\n",
       "<table border=\"1\" class=\"dataframe\">\n",
       "  <thead>\n",
       "    <tr style=\"text-align: right;\">\n",
       "      <th></th>\n",
       "      <th>len</th>\n",
       "      <th>supp</th>\n",
       "      <th>dose</th>\n",
       "    </tr>\n",
       "  </thead>\n",
       "  <tbody>\n",
       "    <tr>\n",
       "      <th>0</th>\n",
       "      <td>4.2</td>\n",
       "      <td>VC</td>\n",
       "      <td>0.5</td>\n",
       "    </tr>\n",
       "    <tr>\n",
       "      <th>1</th>\n",
       "      <td>11.5</td>\n",
       "      <td>VC</td>\n",
       "      <td>0.5</td>\n",
       "    </tr>\n",
       "    <tr>\n",
       "      <th>2</th>\n",
       "      <td>7.3</td>\n",
       "      <td>VC</td>\n",
       "      <td>0.5</td>\n",
       "    </tr>\n",
       "    <tr>\n",
       "      <th>3</th>\n",
       "      <td>5.8</td>\n",
       "      <td>VC</td>\n",
       "      <td>0.5</td>\n",
       "    </tr>\n",
       "    <tr>\n",
       "      <th>4</th>\n",
       "      <td>6.4</td>\n",
       "      <td>VC</td>\n",
       "      <td>0.5</td>\n",
       "    </tr>\n",
       "  </tbody>\n",
       "</table>\n",
       "</div>"
      ],
      "text/plain": [
       "    len supp  dose\n",
       "0   4.2   VC   0.5\n",
       "1  11.5   VC   0.5\n",
       "2   7.3   VC   0.5\n",
       "3   5.8   VC   0.5\n",
       "4   6.4   VC   0.5"
      ]
     },
     "execution_count": 25,
     "metadata": {},
     "output_type": "execute_result"
    }
   ],
   "source": [
    "df = pd.read_csv(\"tooth-growdth.csv\")\n",
    "df.head()"
   ]
  },
  {
   "cell_type": "code",
   "execution_count": 26,
   "id": "b7cacc49",
   "metadata": {},
   "outputs": [],
   "source": [
    "import matplotlib.pyplot as plt"
   ]
  },
  {
   "cell_type": "code",
   "execution_count": 27,
   "id": "855d5572",
   "metadata": {},
   "outputs": [
    {
     "data": {
      "text/plain": [
       "<Axes: xlabel='supp', ylabel='len'>"
      ]
     },
     "execution_count": 27,
     "metadata": {},
     "output_type": "execute_result"
    },
    {
     "data": {
      "image/png": "[encoded data removed]",
      "text/plain": [
       "<Figure size 500x300 with 1 Axes>"
      ]
     },
     "metadata": {},
     "output_type": "display_data"
    }
   ],
   "source": [
    "plt.figure(figsize=(5,3))\n",
    "sns.boxplot(x='supp',y= 'len',hue= 'dose',data=df)"
   ]
  },
  {
   "cell_type": "markdown",
   "id": "f3ef2c52",
   "metadata": {},
   "source": [
    "**Checking 0f Normality**"
   ]
  },
  {
   "cell_type": "code",
   "execution_count": 40,
   "id": "b55dbe5b",
   "metadata": {},
   "outputs": [
    {
     "data": {
      "text/plain": [
       "<Axes: xlabel='len', ylabel='Count'>"
      ]
     },
     "execution_count": 40,
     "metadata": {},
     "output_type": "execute_result"
    },
    {
     "data": {
      "image/png": "[encoded data removed]",
      "text/plain": [
       "<Figure size 640x480 with 1 Axes>"
      ]
     },
     "metadata": {},
     "output_type": "display_data"
    }
   ],
   "source": [
    "sns.histplot(df['len'],kde=True)"
   ]
  },
  {
   "cell_type": "markdown",
   "id": "e1aef820",
   "metadata": {},
   "source": [
    "### shapiro wallic test"
   ]
  },
  {
   "cell_type": "code",
   "execution_count": 41,
   "id": "884f52fa",
   "metadata": {},
   "outputs": [
    {
     "data": {
      "text/plain": [
       "ShapiroResult(statistic=0.9674286842346191, pvalue=0.10910055041313171)"
      ]
     },
     "execution_count": 41,
     "metadata": {},
     "output_type": "execute_result"
    }
   ],
   "source": [
    "from scipy.stats import shapiro\n",
    "result = shapiro(df['len'])\n",
    "result"
   ]
  },
  {
   "cell_type": "code",
   "execution_count": 45,
   "id": "29cc0a0d",
   "metadata": {},
   "outputs": [
    {
     "name": "stdout",
     "output_type": "stream",
     "text": [
      "We fail to reject Null Hypothesis\n",
      "Conclusion: The data is normal distribution\n"
     ]
    }
   ],
   "source": [
    "if result.pvalue <= 0.05:\n",
    "    print(\"We reject Null Hypothesis\")\n",
    "    print(\"Conclusion: The data is deviated from normal distribution\")\n",
    "else:\n",
    "     print(\"We fail to reject Null Hypothesis\")\n",
    "     print(\"Conclusion: The data is normal distribution\")"
   ]
  },
  {
   "cell_type": "markdown",
   "id": "c3b442c4",
   "metadata": {},
   "source": [
    "### Kolmogorov-Smirnov test for checking Normality"
   ]
  },
  {
   "cell_type": "code",
   "execution_count": 48,
   "id": "89303201",
   "metadata": {},
   "outputs": [
    {
     "data": {
      "text/plain": [
       "KstestResult(statistic=0.9999866542509841, pvalue=6.631429897343184e-293, statistic_location=4.2, statistic_sign=-1)"
      ]
     },
     "execution_count": 48,
     "metadata": {},
     "output_type": "execute_result"
    }
   ],
   "source": [
    "from scipy.stats import kstest\n",
    "result = kstest(df['len'],cdf = 'norm')\n",
    "result"
   ]
  },
  {
   "cell_type": "code",
   "execution_count": 49,
   "id": "ce236fbb",
   "metadata": {},
   "outputs": [
    {
     "name": "stdout",
     "output_type": "stream",
     "text": [
      "We reject Null Hypothesis\n",
      "Conclusion: The data is deviated from normal distribution\n"
     ]
    }
   ],
   "source": [
    "if result.pvalue <= 0.05:\n",
    "    print(\"We reject Null Hypothesis\")\n",
    "    print(\"Conclusion: The data is deviated from normal distribution\")\n",
    "else:\n",
    "     print(\"We fail to reject Null Hypothesis\")\n",
    "     print(\"Conclusion: The data is normal distribution\")"
   ]
  },
  {
   "cell_type": "markdown",
   "id": "31c4bf5a",
   "metadata": {},
   "source": [
    "**factors:supp and dose**"
   ]
  },
  {
   "cell_type": "code",
   "execution_count": 32,
   "id": "dd8a7df7",
   "metadata": {},
   "outputs": [],
   "source": [
    "# Fit a two-way ANOVA model\n",
    "formula = 'len ~ C(supp) + C(dose) + C(supp):C(dose)'"
   ]
  },
  {
   "cell_type": "code",
   "execution_count": 37,
   "id": "884f3ba8",
   "metadata": {},
   "outputs": [],
   "source": [
    "#!pip install statsmodels\n",
    "from statsmodels.formula.api import ols\n",
    "from statsmodels.stats.anova import anova_lm"
   ]
  },
  {
   "cell_type": "code",
   "execution_count": 38,
   "id": "107a395f",
   "metadata": {},
   "outputs": [
    {
     "name": "stdout",
     "output_type": "stream",
     "text": [
      "                      sum_sq    df          F        PR(>F)\n",
      "C(supp)           205.350000   1.0  15.571979  2.311828e-04\n",
      "C(dose)          2426.434333   2.0  91.999965  4.046291e-18\n",
      "C(supp):C(dose)   108.319000   2.0   4.106991  2.186027e-02\n",
      "Residual          712.106000  54.0        NaN           NaN\n"
     ]
    }
   ],
   "source": [
    "model = ols(formula, data=df).fit()\n",
    "# Perform ANOVA\n",
    "anova_table = anova_lm(model, typ=2)\n",
    "print(anova_table)"
   ]
  },
  {
   "cell_type": "code",
   "execution_count": null,
   "id": "281d460e",
   "metadata": {},
   "outputs": [],
   "source": []
  }
 ],
 "metadata": {
  "kernelspec": {
   "display_name": "Python 3 (ipykernel)",
   "language": "python",
   "name": "python3"
  },
  "language_info": {
   "codemirror_mode": {
    "name": "ipython",
    "version": 3
   },
   "file_extension": ".py",
   "mimetype": "text/x-python",
   "name": "python",
   "nbconvert_exporter": "python",
   "pygments_lexer": "ipython3",
   "version": "3.11.4"
  },
  "nbTranslate": {
   "displayLangs": [
    "*"
   ],
   "hotkey": "alt-t",
   "langInMainMenu": true,
   "sourceLang": "en",
   "targetLang": "fr",
   "useGoogleTranslate": true
  },
  "toc": {
   "base_numbering": 1,
   "nav_menu": {},
   "number_sections": true,
   "sideBar": true,
   "skip_h1_title": false,
   "title_cell": "Table of Contents",
   "title_sidebar": "Contents",
   "toc_cell": true,
   "toc_position": {
    "height": "calc(100% - 180px)",
    "left": "10px",
    "top": "150px",
    "width": "307.2px"
   },
   "toc_section_display": true,
   "toc_window_display": true
  }
 },
 "nbformat": 4,
 "nbformat_minor": 5
}
